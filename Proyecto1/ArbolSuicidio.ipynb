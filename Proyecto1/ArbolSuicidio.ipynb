{
 "cells": [
  {
   "cell_type": "code",
   "execution_count": 1,
   "id": "a8b6663b-3093-4bc0-b867-267421dd7b18",
   "metadata": {},
   "outputs": [],
   "source": [
    "#ARBOL DE DECISION____________________________________\n",
    "# Librerías para manejo de datos\n",
    " # librería Natural Language Toolkit, usada para trabajar con textos \n",
    "from sklearn.feature_extraction.text import TfidfVectorizer, CountVectorizer, HashingVectorizer\n",
    "import pandas as pd\n",
    "pd.set_option('display.max_columns', 25) # Número máximo de columnas a mostrar\n",
    "pd.set_option('display.max_rows', 50) # Numero máximo de filas a mostar\n",
    "import numpy as np\n",
    "np.random.seed(3301)\n",
    "import pandas as pd\n",
    "from sklearn.preprocessing import LabelEncoder\n",
    "# Para crear el arbol de decisión \n",
    "from sklearn.tree import DecisionTreeClassifier \n",
    "# Para realizar la separación del conjunto de aprendizaje en entrenamiento y test.\n",
    "from sklearn.model_selection import train_test_split\n",
    "# Para evaluar el modelo\n",
    "from sklearn.metrics import confusion_matrix, classification_report, precision_score, recall_score, f1_score, accuracy_score\n",
    "from sklearn.metrics import plot_confusion_matrix\n",
    "# Para búsqueda de hiperparámetros\n",
    "from sklearn.model_selection import GridSearchCV\n",
    "# Para la validación cruzada\n",
    "from sklearn.model_selection import KFold \n",
    "#Librerías para la visualización\n",
    "import matplotlib.pyplot as plt\n",
    "# Seaborn\n",
    "import seaborn as sns \n",
    "from sklearn import tree\n"
   ]
  },
  {
   "cell_type": "code",
   "execution_count": 2,
   "id": "e2ef341e-bd45-4372-b1c6-d188d30d8275",
   "metadata": {},
   "outputs": [
    {
     "data": {
      "text/html": [
       "<div>\n",
       "<style scoped>\n",
       "    .dataframe tbody tr th:only-of-type {\n",
       "        vertical-align: middle;\n",
       "    }\n",
       "\n",
       "    .dataframe tbody tr th {\n",
       "        vertical-align: top;\n",
       "    }\n",
       "\n",
       "    .dataframe thead th {\n",
       "        text-align: right;\n",
       "    }\n",
       "</style>\n",
       "<table border=\"1\" class=\"dataframe\">\n",
       "  <thead>\n",
       "    <tr style=\"text-align: right;\">\n",
       "      <th></th>\n",
       "      <th>Unnamed: 0.1</th>\n",
       "      <th>Unnamed: 0</th>\n",
       "      <th>text</th>\n",
       "      <th>class</th>\n",
       "      <th>words</th>\n",
       "    </tr>\n",
       "  </thead>\n",
       "  <tbody>\n",
       "    <tr>\n",
       "      <th>114306</th>\n",
       "      <td>114339</td>\n",
       "      <td>130468</td>\n",
       "      <td>I am getting to the point of killing myself.He...</td>\n",
       "      <td>suicide</td>\n",
       "      <td>get point kil myselfhey everyon nam start feel...</td>\n",
       "    </tr>\n",
       "    <tr>\n",
       "      <th>102931</th>\n",
       "      <td>102962</td>\n",
       "      <td>74050</td>\n",
       "      <td>Why cannot everyone stop talking about the nea...</td>\n",
       "      <td>suicide</td>\n",
       "      <td>everyon stop talk near fut try kil myselfnev u...</td>\n",
       "    </tr>\n",
       "    <tr>\n",
       "      <th>194647</th>\n",
       "      <td>194708</td>\n",
       "      <td>344258</td>\n",
       "      <td>I just heard someone be transphobic on the rad...</td>\n",
       "      <td>non-suicide</td>\n",
       "      <td>heard someon transphob radio tot angry fuck no...</td>\n",
       "    </tr>\n",
       "    <tr>\n",
       "      <th>140241</th>\n",
       "      <td>140287</td>\n",
       "      <td>188653</td>\n",
       "      <td>At the end of my history class everytime, I tu...</td>\n",
       "      <td>non-suicide</td>\n",
       "      <td>end hist class everytim turn snap potato filt ...</td>\n",
       "    </tr>\n",
       "    <tr>\n",
       "      <th>123922</th>\n",
       "      <td>123960</td>\n",
       "      <td>184059</td>\n",
       "      <td>MedicationsWhat medications is anyone else tak...</td>\n",
       "      <td>suicide</td>\n",
       "      <td>medicationswh med anyon els tak cury also sid ...</td>\n",
       "    </tr>\n",
       "    <tr>\n",
       "      <th>48650</th>\n",
       "      <td>48660</td>\n",
       "      <td>186023</td>\n",
       "      <td>Dudes be paying for seeing Pussy pics. When th...</td>\n",
       "      <td>non-suicide</td>\n",
       "      <td>dud pay see pussy pic us mir post brought hoe ...</td>\n",
       "    </tr>\n",
       "    <tr>\n",
       "      <th>116684</th>\n",
       "      <td>116718</td>\n",
       "      <td>137973</td>\n",
       "      <td>Waking upDoes anyone wake up in the morning an...</td>\n",
       "      <td>suicide</td>\n",
       "      <td>wak updo anyon wak morn disappoint wake updoes...</td>\n",
       "    </tr>\n",
       "    <tr>\n",
       "      <th>1172</th>\n",
       "      <td>1172</td>\n",
       "      <td>108811</td>\n",
       "      <td>everything i have ever wanted, since before i ...</td>\n",
       "      <td>suicide</td>\n",
       "      <td>everyth ev want sint remember know ev going di...</td>\n",
       "    </tr>\n",
       "    <tr>\n",
       "      <th>124206</th>\n",
       "      <td>124244</td>\n",
       "      <td>300482</td>\n",
       "      <td>you know that person who no one ever counts on...</td>\n",
       "      <td>non-suicide</td>\n",
       "      <td>know person on ev count anyth everyon know goi...</td>\n",
       "    </tr>\n",
       "    <tr>\n",
       "      <th>28698</th>\n",
       "      <td>28704</td>\n",
       "      <td>54642</td>\n",
       "      <td>Story time Like last year I met this really cu...</td>\n",
       "      <td>non-suicide</td>\n",
       "      <td>story tim lik last year met real cut girl lik ...</td>\n",
       "    </tr>\n",
       "  </tbody>\n",
       "</table>\n",
       "</div>"
      ],
      "text/plain": [
       "        Unnamed: 0.1  Unnamed: 0  \\\n",
       "114306        114339      130468   \n",
       "102931        102962       74050   \n",
       "194647        194708      344258   \n",
       "140241        140287      188653   \n",
       "123922        123960      184059   \n",
       "48650          48660      186023   \n",
       "116684        116718      137973   \n",
       "1172            1172      108811   \n",
       "124206        124244      300482   \n",
       "28698          28704       54642   \n",
       "\n",
       "                                                     text        class  \\\n",
       "114306  I am getting to the point of killing myself.He...      suicide   \n",
       "102931  Why cannot everyone stop talking about the nea...      suicide   \n",
       "194647  I just heard someone be transphobic on the rad...  non-suicide   \n",
       "140241  At the end of my history class everytime, I tu...  non-suicide   \n",
       "123922  MedicationsWhat medications is anyone else tak...      suicide   \n",
       "48650   Dudes be paying for seeing Pussy pics. When th...  non-suicide   \n",
       "116684  Waking upDoes anyone wake up in the morning an...      suicide   \n",
       "1172    everything i have ever wanted, since before i ...      suicide   \n",
       "124206  you know that person who no one ever counts on...  non-suicide   \n",
       "28698   Story time Like last year I met this really cu...  non-suicide   \n",
       "\n",
       "                                                    words  \n",
       "114306  get point kil myselfhey everyon nam start feel...  \n",
       "102931  everyon stop talk near fut try kil myselfnev u...  \n",
       "194647  heard someon transphob radio tot angry fuck no...  \n",
       "140241  end hist class everytim turn snap potato filt ...  \n",
       "123922  medicationswh med anyon els tak cury also sid ...  \n",
       "48650   dud pay see pussy pic us mir post brought hoe ...  \n",
       "116684  wak updo anyon wak morn disappoint wake updoes...  \n",
       "1172    everyth ev want sint remember know ev going di...  \n",
       "124206  know person on ev count anyth everyon know goi...  \n",
       "28698   story tim lik last year met real cut girl lik ...  "
      ]
     },
     "metadata": {},
     "output_type": "display_data"
    }
   ],
   "source": [
    "#CARGA DE DATOS YA PREPROCESADOS\n",
    "# Uso de la libreria pandas para la lectura de archivos\n",
    "data=pd.read_csv('SuicidiosPurificado.csv', sep=',', encoding = 'utf-8')\n",
    "# Asignación a una nueva variable de los datos leidos\n",
    "data_t=data.dropna()\n",
    "display(data_t.sample(10))"
   ]
  },
  {
   "cell_type": "code",
   "execution_count": 3,
   "id": "d9e31bf8-97e5-45f8-be7e-6a3c9173541e",
   "metadata": {},
   "outputs": [
    {
     "data": {
      "text/plain": [
       "0         1\n",
       "1         0\n",
       "2         1\n",
       "3         1\n",
       "4         1\n",
       "         ..\n",
       "195634    0\n",
       "195635    0\n",
       "195636    0\n",
       "195637    0\n",
       "195638    1\n",
       "Name: class, Length: 195639, dtype: int32"
      ]
     },
     "execution_count": 3,
     "metadata": {},
     "output_type": "execute_result"
    }
   ],
   "source": [
    "#Separar datos\n",
    "X_data, y_data = data_t['words'],data_t['class']\n",
    "y_data = (y_data == 'suicide').astype(int)\n",
    "y_data"
   ]
  },
  {
   "cell_type": "code",
   "execution_count": 4,
   "id": "7329a3a7-c243-4617-9144-d61451b6f194",
   "metadata": {},
   "outputs": [
    {
     "name": "stdout",
     "output_type": "stream",
     "text": [
      "(195639, 204752)\n"
     ]
    }
   ],
   "source": [
    "#Se realiza la vectorización por conteo de palabras\n",
    "count = CountVectorizer()\n",
    "X_count = count.fit_transform(X_data)\n",
    "print(X_count.shape)"
   ]
  },
  {
   "cell_type": "code",
   "execution_count": 5,
   "id": "58dc588e-e642-4609-a824-8eea94ce02c4",
   "metadata": {},
   "outputs": [
    {
     "name": "stderr",
     "output_type": "stream",
     "text": [
      "C:\\Users\\marti\\anaconda3\\lib\\site-packages\\sklearn\\utils\\deprecation.py:87: FutureWarning: Function plot_confusion_matrix is deprecated; Function `plot_confusion_matrix` is deprecated in 1.0 and will be removed in 1.2. Use one of the class methods: ConfusionMatrixDisplay.from_predictions or ConfusionMatrixDisplay.from_estimator.\n",
      "  warnings.warn(msg, category=FutureWarning)\n"
     ]
    },
    {
     "data": {
      "image/png": "[encoded data removed]",
      "text/plain": [
       "<Figure size 432x288 with 2 Axes>"
      ]
     },
     "metadata": {
      "needs_background": "light"
     },
     "output_type": "display_data"
    }
   ],
   "source": [
    "# Dividir los datos en entrenamiento y test\n",
    "X_train, X_test, Y_train, Y_test = train_test_split(X_count, y_data, test_size=0.2, random_state=0)\n",
    "#Se crea el arbol\n",
    "arbol = DecisionTreeClassifier(criterion='gini', random_state=0)\n",
    "arbol = arbol.fit(X_train,Y_train)\n",
    "# Determinamos las predicciones del modelo sobre el conjunto test.\n",
    "y_pred = arbol.predict(X_test)\n",
    "# Se genera la matriz de confusión\n",
    "confusion_matrix(Y_test, y_pred)\n",
    "# Se puede visualizar la matriz de confusión\n",
    "plot_confusion_matrix(arbol, X_test, Y_test)  \n",
    "plt.show()  "
   ]
  },
  {
   "cell_type": "code",
   "execution_count": 6,
   "id": "b7a0f95f-0edb-44dc-accd-1d93538847f6",
   "metadata": {},
   "outputs": [
    {
     "name": "stdout",
     "output_type": "stream",
     "text": [
      "Exactitud: 0.86\n",
      "Recall: 0.8320678085820237\n",
      "Precisión: 0.8435877543713075\n",
      "Puntuación F1: 0.8377881823030878\n"
     ]
    }
   ],
   "source": [
    "print('Exactitud: %.2f' % accuracy_score(Y_test, y_pred))\n",
    "print(\"Recall: {}\".format(recall_score(Y_test,y_pred)))\n",
    "print(\"Precisión: {}\".format(precision_score(Y_test,y_pred)))\n",
    "print(\"Puntuación F1: {}\".format(f1_score(Y_test,y_pred)))"
   ]
  },
  {
   "cell_type": "code",
   "execution_count": 7,
   "id": "05184e15-3a8e-452e-8532-d15c325b3639",
   "metadata": {},
   "outputs": [
    {
     "name": "stdout",
     "output_type": "stream",
     "text": [
      "              precision    recall  f1-score   support\n",
      "\n",
      "           0       0.87      0.88      0.88     22139\n",
      "           1       0.84      0.83      0.84     16989\n",
      "\n",
      "    accuracy                           0.86     39128\n",
      "   macro avg       0.86      0.86      0.86     39128\n",
      "weighted avg       0.86      0.86      0.86     39128\n",
      "\n"
     ]
    }
   ],
   "source": [
    "print(classification_report(Y_test, y_pred))"
   ]
  },
  {
   "cell_type": "raw",
   "id": "1a38a148-716f-4c80-a7dc-1be31a29b2dd",
   "metadata": {},
   "source": [
    "El modelo es muy bueno prediciendo."
   ]
  }
 ],
 "metadata": {
  "kernelspec": {
   "display_name": "Python 3 (ipykernel)",
   "language": "python",
   "name": "python3"
  },
  "language_info": {
   "codemirror_mode": {
    "name": "ipython",
    "version": 3
   },
   "file_extension": ".py",
   "mimetype": "text/x-python",
   "name": "python",
   "nbconvert_exporter": "python",
   "pygments_lexer": "ipython3",
   "version": "3.9.12"
  }
 },
 "nbformat": 4,
 "nbformat_minor": 5
}
