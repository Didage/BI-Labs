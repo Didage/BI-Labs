{
 "cells": [
  {
   "cell_type": "code",
   "execution_count": 1,
   "id": "a8b6663b-3093-4bc0-b867-267421dd7b18",
   "metadata": {},
   "outputs": [],
   "source": [
    "#ARBOL DE DECISION____________________________________\n",
    "# Librerías para manejo de datos\n",
    " # librería Natural Language Toolkit, usada para trabajar con textos \n",
    "from sklearn.feature_extraction.text import TfidfVectorizer, CountVectorizer, HashingVectorizer\n",
    "import pandas as pd\n",
    "pd.set_option('display.max_columns', 25) # Número máximo de columnas a mostrar\n",
    "pd.set_option('display.max_rows', 50) # Numero máximo de filas a mostar\n",
    "import numpy as np\n",
    "np.random.seed(3301)\n",
    "import pandas as pd\n",
    "from sklearn.preprocessing import LabelEncoder\n",
    "# Para crear el arbol de decisión \n",
    "from sklearn.tree import DecisionTreeClassifier \n",
    "# Para realizar la separación del conjunto de aprendizaje en entrenamiento y test.\n",
    "from sklearn.model_selection import train_test_split\n",
    "# Para evaluar el modelo\n",
    "from sklearn.metrics import confusion_matrix, classification_report, precision_score, recall_score, f1_score, accuracy_score\n",
    "from sklearn.metrics import plot_confusion_matrix\n",
    "# Para búsqueda de hiperparámetros\n",
    "from sklearn.model_selection import GridSearchCV\n",
    "# Para la validación cruzada\n",
    "from sklearn.model_selection import KFold \n",
    "#Librerías para la visualización\n",
    "import matplotlib.pyplot as plt\n",
    "# Seaborn\n",
    "import seaborn as sns \n",
    "from sklearn import tree\n"
   ]
  },
  {
   "cell_type": "code",
   "execution_count": 2,
   "id": "e2ef341e-bd45-4372-b1c6-d188d30d8275",
   "metadata": {},
   "outputs": [
    {
     "data": {
      "text/html": [
       "<div>\n",
       "<style scoped>\n",
       "    .dataframe tbody tr th:only-of-type {\n",
       "        vertical-align: middle;\n",
       "    }\n",
       "\n",
       "    .dataframe tbody tr th {\n",
       "        vertical-align: top;\n",
       "    }\n",
       "\n",
       "    .dataframe thead th {\n",
       "        text-align: right;\n",
       "    }\n",
       "</style>\n",
       "<table border=\"1\" class=\"dataframe\">\n",
       "  <thead>\n",
       "    <tr style=\"text-align: right;\">\n",
       "      <th></th>\n",
       "      <th>Unnamed: 0.3</th>\n",
       "      <th>Unnamed: 0.2</th>\n",
       "      <th>Unnamed: 0.1</th>\n",
       "      <th>Unnamed: 0</th>\n",
       "      <th>text</th>\n",
       "      <th>class</th>\n",
       "      <th>words</th>\n",
       "    </tr>\n",
       "  </thead>\n",
       "  <tbody>\n",
       "    <tr>\n",
       "      <th>85445</th>\n",
       "      <td>85445</td>\n",
       "      <td>85445</td>\n",
       "      <td>85445</td>\n",
       "      <td>271813</td>\n",
       "      <td>I wish I just died in that car accident.I had ...</td>\n",
       "      <td>suicide</td>\n",
       "      <td>['i', '  wish', '  i', '  just', '  died', '  ...</td>\n",
       "    </tr>\n",
       "    <tr>\n",
       "      <th>187027</th>\n",
       "      <td>187027</td>\n",
       "      <td>187027</td>\n",
       "      <td>187027</td>\n",
       "      <td>175193</td>\n",
       "      <td>My crush has a crush on me. Right before schoo...</td>\n",
       "      <td>non-suicide</td>\n",
       "      <td>['my', '  crush', '  has', '  a', '  crush', '...</td>\n",
       "    </tr>\n",
       "    <tr>\n",
       "      <th>178581</th>\n",
       "      <td>178581</td>\n",
       "      <td>178581</td>\n",
       "      <td>178581</td>\n",
       "      <td>161892</td>\n",
       "      <td>Opinion: Parents can be douchebags sometimes. ...</td>\n",
       "      <td>non-suicide</td>\n",
       "      <td>['opin', '  ', '  parents', '  can', '  be', '...</td>\n",
       "    </tr>\n",
       "    <tr>\n",
       "      <th>29609</th>\n",
       "      <td>29609</td>\n",
       "      <td>29609</td>\n",
       "      <td>29609</td>\n",
       "      <td>250423</td>\n",
       "      <td>Hi anybody want to talk I am at a sleep over r...</td>\n",
       "      <td>non-suicide</td>\n",
       "      <td>['hi', '  anybody', '  want', '  to', '  talk'...</td>\n",
       "    </tr>\n",
       "    <tr>\n",
       "      <th>12816</th>\n",
       "      <td>12816</td>\n",
       "      <td>12816</td>\n",
       "      <td>12816</td>\n",
       "      <td>336514</td>\n",
       "      <td>Getting very close to hanging myselfI'm sick o...</td>\n",
       "      <td>suicide</td>\n",
       "      <td>['get', '  very', '  close', '  to', '  hangin...</td>\n",
       "    </tr>\n",
       "    <tr>\n",
       "      <th>14348</th>\n",
       "      <td>14348</td>\n",
       "      <td>14348</td>\n",
       "      <td>14348</td>\n",
       "      <td>71230</td>\n",
       "      <td>I do not think I Have ever needed a hug so bad...</td>\n",
       "      <td>non-suicide</td>\n",
       "      <td>['i', '  do', '  not', '  think', '  i', '  ha...</td>\n",
       "    </tr>\n",
       "    <tr>\n",
       "      <th>171931</th>\n",
       "      <td>171931</td>\n",
       "      <td>171931</td>\n",
       "      <td>171931</td>\n",
       "      <td>134189</td>\n",
       "      <td>Welp...I left my note and made my plan. Wish m...</td>\n",
       "      <td>suicide</td>\n",
       "      <td>['welp', '  ', '  i', '  left', '  my', '  not...</td>\n",
       "    </tr>\n",
       "    <tr>\n",
       "      <th>105765</th>\n",
       "      <td>105765</td>\n",
       "      <td>105765</td>\n",
       "      <td>105765</td>\n",
       "      <td>163744</td>\n",
       "      <td>Petition to be able to change your reddit user...</td>\n",
       "      <td>non-suicide</td>\n",
       "      <td>['petit', '  to', '  be', '  able', '  to', ' ...</td>\n",
       "    </tr>\n",
       "    <tr>\n",
       "      <th>194842</th>\n",
       "      <td>194842</td>\n",
       "      <td>194842</td>\n",
       "      <td>194842</td>\n",
       "      <td>176741</td>\n",
       "      <td>It never endsI have chronic pain, I Have been ...</td>\n",
       "      <td>suicide</td>\n",
       "      <td>['it', '  never', '  endsi', '  have', '  chro...</td>\n",
       "    </tr>\n",
       "    <tr>\n",
       "      <th>94512</th>\n",
       "      <td>94512</td>\n",
       "      <td>94512</td>\n",
       "      <td>94512</td>\n",
       "      <td>289543</td>\n",
       "      <td>01110100 01101001 01110100 01101100 01100101  ...</td>\n",
       "      <td>non-suicide</td>\n",
       "      <td>['01110100', '  01101001', '  01110100', '  01...</td>\n",
       "    </tr>\n",
       "  </tbody>\n",
       "</table>\n",
       "</div>"
      ],
      "text/plain": [
       "        Unnamed: 0.3  Unnamed: 0.2  Unnamed: 0.1  Unnamed: 0  \\\n",
       "85445          85445         85445         85445      271813   \n",
       "187027        187027        187027        187027      175193   \n",
       "178581        178581        178581        178581      161892   \n",
       "29609          29609         29609         29609      250423   \n",
       "12816          12816         12816         12816      336514   \n",
       "14348          14348         14348         14348       71230   \n",
       "171931        171931        171931        171931      134189   \n",
       "105765        105765        105765        105765      163744   \n",
       "194842        194842        194842        194842      176741   \n",
       "94512          94512         94512         94512      289543   \n",
       "\n",
       "                                                     text        class  \\\n",
       "85445   I wish I just died in that car accident.I had ...      suicide   \n",
       "187027  My crush has a crush on me. Right before schoo...  non-suicide   \n",
       "178581  Opinion: Parents can be douchebags sometimes. ...  non-suicide   \n",
       "29609   Hi anybody want to talk I am at a sleep over r...  non-suicide   \n",
       "12816   Getting very close to hanging myselfI'm sick o...      suicide   \n",
       "14348   I do not think I Have ever needed a hug so bad...  non-suicide   \n",
       "171931  Welp...I left my note and made my plan. Wish m...      suicide   \n",
       "105765  Petition to be able to change your reddit user...  non-suicide   \n",
       "194842  It never endsI have chronic pain, I Have been ...      suicide   \n",
       "94512   01110100 01101001 01110100 01101100 01100101  ...  non-suicide   \n",
       "\n",
       "                                                    words  \n",
       "85445   ['i', '  wish', '  i', '  just', '  died', '  ...  \n",
       "187027  ['my', '  crush', '  has', '  a', '  crush', '...  \n",
       "178581  ['opin', '  ', '  parents', '  can', '  be', '...  \n",
       "29609   ['hi', '  anybody', '  want', '  to', '  talk'...  \n",
       "12816   ['get', '  very', '  close', '  to', '  hangin...  \n",
       "14348   ['i', '  do', '  not', '  think', '  i', '  ha...  \n",
       "171931  ['welp', '  ', '  i', '  left', '  my', '  not...  \n",
       "105765  ['petit', '  to', '  be', '  able', '  to', ' ...  \n",
       "194842  ['it', '  never', '  endsi', '  have', '  chro...  \n",
       "94512   ['01110100', '  01101001', '  01110100', '  01...  "
      ]
     },
     "metadata": {},
     "output_type": "display_data"
    }
   ],
   "source": [
    "#CARGA DE DATOS YA PREPROCESADOS\n",
    "# Uso de la libreria pandas para la lectura de archivos\n",
    "data=pd.read_csv('suicidioSinStop.csv', sep=',', encoding = 'utf-8')\n",
    "# Asignación a una nueva variable de los datos leidos\n",
    "data_t=data.dropna()\n",
    "display(data_t.sample(10))"
   ]
  },
  {
   "cell_type": "code",
   "execution_count": 3,
   "id": "d9e31bf8-97e5-45f8-be7e-6a3c9173541e",
   "metadata": {},
   "outputs": [
    {
     "data": {
      "text/plain": [
       "0         1\n",
       "1         0\n",
       "2         1\n",
       "3         1\n",
       "4         1\n",
       "         ..\n",
       "195695    0\n",
       "195696    0\n",
       "195697    0\n",
       "195698    0\n",
       "195699    1\n",
       "Name: class, Length: 195672, dtype: int32"
      ]
     },
     "execution_count": 3,
     "metadata": {},
     "output_type": "execute_result"
    }
   ],
   "source": [
    "#Separar datos\n",
    "X_data, y_data = data_t['words'],data_t['class']\n",
    "y_data = (y_data == 'suicide').astype(int)\n",
    "y_data"
   ]
  },
  {
   "cell_type": "code",
   "execution_count": 4,
   "id": "7329a3a7-c243-4617-9144-d61451b6f194",
   "metadata": {},
   "outputs": [
    {
     "name": "stdout",
     "output_type": "stream",
     "text": [
      "(195672, 177393)\n"
     ]
    }
   ],
   "source": [
    "#Se realiza la vectorización por conteo de palabras\n",
    "count = CountVectorizer()\n",
    "X_count = count.fit_transform(X_data)\n",
    "print(X_count.shape)"
   ]
  },
  {
   "cell_type": "code",
   "execution_count": 5,
   "id": "58dc588e-e642-4609-a824-8eea94ce02c4",
   "metadata": {},
   "outputs": [
    {
     "name": "stderr",
     "output_type": "stream",
     "text": [
      "C:\\Users\\marti\\anaconda3\\lib\\site-packages\\sklearn\\utils\\deprecation.py:87: FutureWarning: Function plot_confusion_matrix is deprecated; Function `plot_confusion_matrix` is deprecated in 1.0 and will be removed in 1.2. Use one of the class methods: ConfusionMatrixDisplay.from_predictions or ConfusionMatrixDisplay.from_estimator.\n",
      "  warnings.warn(msg, category=FutureWarning)\n"
     ]
    },
    {
     "data": {
      "image/png": "[encoded data removed]",
      "text/plain": [
       "<Figure size 432x288 with 2 Axes>"
      ]
     },
     "metadata": {
      "needs_background": "light"
     },
     "output_type": "display_data"
    }
   ],
   "source": [
    "# Dividir los datos en entrenamiento y test\n",
    "X_train, X_test, Y_train, Y_test = train_test_split(X_count, y_data, test_size=0.2, random_state=0)\n",
    "#Se crea el arbol\n",
    "arbol = DecisionTreeClassifier(criterion='gini', random_state=0)\n",
    "arbol = arbol.fit(X_train,Y_train)\n",
    "# Determinamos las predicciones del modelo sobre el conjunto test.\n",
    "y_pred = arbol.predict(X_test)\n",
    "# Se genera la matriz de confusión\n",
    "confusion_matrix(Y_test, y_pred)\n",
    "# Se puede visualizar la matriz de confusión\n",
    "plot_confusion_matrix(arbol, X_test, Y_test)  \n",
    "plt.show()  "
   ]
  },
  {
   "cell_type": "code",
   "execution_count": 6,
   "id": "b7a0f95f-0edb-44dc-accd-1d93538847f6",
   "metadata": {},
   "outputs": [
    {
     "name": "stdout",
     "output_type": "stream",
     "text": [
      "Exactitud: 0.86\n",
      "Recall: 0.8282620210699783\n",
      "Precisión: 0.8499728211632542\n",
      "Puntuación F1: 0.8389769881960176\n"
     ]
    }
   ],
   "source": [
    "print('Exactitud: %.2f' % accuracy_score(Y_test, y_pred))\n",
    "print(\"Recall: {}\".format(recall_score(Y_test,y_pred)))\n",
    "print(\"Precisión: {}\".format(precision_score(Y_test,y_pred)))\n",
    "print(\"Puntuación F1: {}\".format(f1_score(Y_test,y_pred)))"
   ]
  },
  {
   "cell_type": "code",
   "execution_count": 8,
   "id": "05184e15-3a8e-452e-8532-d15c325b3639",
   "metadata": {},
   "outputs": [
    {
     "name": "stdout",
     "output_type": "stream",
     "text": [
      "              precision    recall  f1-score   support\n",
      "\n",
      "           0       0.87      0.89      0.88     22144\n",
      "           1       0.85      0.83      0.84     16991\n",
      "\n",
      "    accuracy                           0.86     39135\n",
      "   macro avg       0.86      0.86      0.86     39135\n",
      "weighted avg       0.86      0.86      0.86     39135\n",
      "\n"
     ]
    }
   ],
   "source": [
    "print(classification_report(Y_test, y_pred))"
   ]
  },
  {
   "cell_type": "raw",
   "id": "1a38a148-716f-4c80-a7dc-1be31a29b2dd",
   "metadata": {},
   "source": [
    "El modelo es muy bueno prediciendo."
   ]
  }
 ],
 "metadata": {
  "kernelspec": {
   "display_name": "Python 3 (ipykernel)",
   "language": "python",
   "name": "python3"
  },
  "language_info": {
   "codemirror_mode": {
    "name": "ipython",
    "version": 3
   },
   "file_extension": ".py",
   "mimetype": "text/x-python",
   "name": "python",
   "nbconvert_exporter": "python",
   "pygments_lexer": "ipython3",
   "version": "3.9.12"
  }
 },
 "nbformat": 4,
 "nbformat_minor": 5
}
