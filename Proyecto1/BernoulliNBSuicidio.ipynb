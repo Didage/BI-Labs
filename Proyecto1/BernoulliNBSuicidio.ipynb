{
 "cells": [
  {
   "cell_type": "code",
   "execution_count": 1,
   "id": "a8b6663b-3093-4bc0-b867-267421dd7b18",
   "metadata": {},
   "outputs": [],
   "source": [
    "import numpy as np\n",
    "np.random.seed(3301)\n",
    "import pandas as pd\n",
    "pd.set_option('display.max_columns', 25)\n",
    "pd.set_option('display.max_rows', 50)\n",
    "import matplotlib.pyplot as plt\n",
    "\n",
    "#Modelo\n",
    "import sklearn\n",
    "from sklearn.naive_bayes import GaussianNB, BernoulliNB\n",
    "from sklearn.model_selection import train_test_split\n",
    "from sklearn.feature_extraction.text import CountVectorizer\n",
    "\n",
    "#k fold validation\n",
    "from sklearn.model_selection import GridSearchCV\n",
    "from sklearn.model_selection import KFold \n",
    "\n",
    "#Métricas\n",
    "from sklearn.metrics import confusion_matrix, classification_report, precision_score, recall_score, f1_score, accuracy_score\n",
    "from sklearn.metrics import plot_confusion_matrix"
   ]
  },
  {
   "cell_type": "code",
   "execution_count": 2,
   "id": "e2ef341e-bd45-4372-b1c6-d188d30d8275",
   "metadata": {},
   "outputs": [
    {
     "data": {
      "text/html": [
       "<div>\n",
       "<style scoped>\n",
       "    .dataframe tbody tr th:only-of-type {\n",
       "        vertical-align: middle;\n",
       "    }\n",
       "\n",
       "    .dataframe tbody tr th {\n",
       "        vertical-align: top;\n",
       "    }\n",
       "\n",
       "    .dataframe thead th {\n",
       "        text-align: right;\n",
       "    }\n",
       "</style>\n",
       "<table border=\"1\" class=\"dataframe\">\n",
       "  <thead>\n",
       "    <tr style=\"text-align: right;\">\n",
       "      <th></th>\n",
       "      <th>Unnamed: 0.1</th>\n",
       "      <th>Unnamed: 0</th>\n",
       "      <th>text</th>\n",
       "      <th>class</th>\n",
       "      <th>words</th>\n",
       "    </tr>\n",
       "  </thead>\n",
       "  <tbody>\n",
       "    <tr>\n",
       "      <th>114306</th>\n",
       "      <td>114339</td>\n",
       "      <td>130468</td>\n",
       "      <td>I am getting to the point of killing myself.He...</td>\n",
       "      <td>suicide</td>\n",
       "      <td>get point kil myselfhey everyon nam start feel...</td>\n",
       "    </tr>\n",
       "    <tr>\n",
       "      <th>102931</th>\n",
       "      <td>102962</td>\n",
       "      <td>74050</td>\n",
       "      <td>Why cannot everyone stop talking about the nea...</td>\n",
       "      <td>suicide</td>\n",
       "      <td>everyon stop talk near fut try kil myselfnev u...</td>\n",
       "    </tr>\n",
       "    <tr>\n",
       "      <th>194647</th>\n",
       "      <td>194708</td>\n",
       "      <td>344258</td>\n",
       "      <td>I just heard someone be transphobic on the rad...</td>\n",
       "      <td>non-suicide</td>\n",
       "      <td>heard someon transphob radio tot angry fuck no...</td>\n",
       "    </tr>\n",
       "    <tr>\n",
       "      <th>140241</th>\n",
       "      <td>140287</td>\n",
       "      <td>188653</td>\n",
       "      <td>At the end of my history class everytime, I tu...</td>\n",
       "      <td>non-suicide</td>\n",
       "      <td>end hist class everytim turn snap potato filt ...</td>\n",
       "    </tr>\n",
       "    <tr>\n",
       "      <th>123922</th>\n",
       "      <td>123960</td>\n",
       "      <td>184059</td>\n",
       "      <td>MedicationsWhat medications is anyone else tak...</td>\n",
       "      <td>suicide</td>\n",
       "      <td>medicationswh med anyon els tak cury also sid ...</td>\n",
       "    </tr>\n",
       "    <tr>\n",
       "      <th>48650</th>\n",
       "      <td>48660</td>\n",
       "      <td>186023</td>\n",
       "      <td>Dudes be paying for seeing Pussy pics. When th...</td>\n",
       "      <td>non-suicide</td>\n",
       "      <td>dud pay see pussy pic us mir post brought hoe ...</td>\n",
       "    </tr>\n",
       "    <tr>\n",
       "      <th>116684</th>\n",
       "      <td>116718</td>\n",
       "      <td>137973</td>\n",
       "      <td>Waking upDoes anyone wake up in the morning an...</td>\n",
       "      <td>suicide</td>\n",
       "      <td>wak updo anyon wak morn disappoint wake updoes...</td>\n",
       "    </tr>\n",
       "    <tr>\n",
       "      <th>1172</th>\n",
       "      <td>1172</td>\n",
       "      <td>108811</td>\n",
       "      <td>everything i have ever wanted, since before i ...</td>\n",
       "      <td>suicide</td>\n",
       "      <td>everyth ev want sint remember know ev going di...</td>\n",
       "    </tr>\n",
       "    <tr>\n",
       "      <th>124206</th>\n",
       "      <td>124244</td>\n",
       "      <td>300482</td>\n",
       "      <td>you know that person who no one ever counts on...</td>\n",
       "      <td>non-suicide</td>\n",
       "      <td>know person on ev count anyth everyon know goi...</td>\n",
       "    </tr>\n",
       "    <tr>\n",
       "      <th>28698</th>\n",
       "      <td>28704</td>\n",
       "      <td>54642</td>\n",
       "      <td>Story time Like last year I met this really cu...</td>\n",
       "      <td>non-suicide</td>\n",
       "      <td>story tim lik last year met real cut girl lik ...</td>\n",
       "    </tr>\n",
       "  </tbody>\n",
       "</table>\n",
       "</div>"
      ],
      "text/plain": [
       "        Unnamed: 0.1  Unnamed: 0  \\\n",
       "114306        114339      130468   \n",
       "102931        102962       74050   \n",
       "194647        194708      344258   \n",
       "140241        140287      188653   \n",
       "123922        123960      184059   \n",
       "48650          48660      186023   \n",
       "116684        116718      137973   \n",
       "1172            1172      108811   \n",
       "124206        124244      300482   \n",
       "28698          28704       54642   \n",
       "\n",
       "                                                     text        class  \\\n",
       "114306  I am getting to the point of killing myself.He...      suicide   \n",
       "102931  Why cannot everyone stop talking about the nea...      suicide   \n",
       "194647  I just heard someone be transphobic on the rad...  non-suicide   \n",
       "140241  At the end of my history class everytime, I tu...  non-suicide   \n",
       "123922  MedicationsWhat medications is anyone else tak...      suicide   \n",
       "48650   Dudes be paying for seeing Pussy pics. When th...  non-suicide   \n",
       "116684  Waking upDoes anyone wake up in the morning an...      suicide   \n",
       "1172    everything i have ever wanted, since before i ...      suicide   \n",
       "124206  you know that person who no one ever counts on...  non-suicide   \n",
       "28698   Story time Like last year I met this really cu...  non-suicide   \n",
       "\n",
       "                                                    words  \n",
       "114306  get point kil myselfhey everyon nam start feel...  \n",
       "102931  everyon stop talk near fut try kil myselfnev u...  \n",
       "194647  heard someon transphob radio tot angry fuck no...  \n",
       "140241  end hist class everytim turn snap potato filt ...  \n",
       "123922  medicationswh med anyon els tak cury also sid ...  \n",
       "48650   dud pay see pussy pic us mir post brought hoe ...  \n",
       "116684  wak updo anyon wak morn disappoint wake updoes...  \n",
       "1172    everyth ev want sint remember know ev going di...  \n",
       "124206  know person on ev count anyth everyon know goi...  \n",
       "28698   story tim lik last year met real cut girl lik ...  "
      ]
     },
     "metadata": {},
     "output_type": "display_data"
    }
   ],
   "source": [
    "#CARGA DE DATOS YA PREPROCESADOS\n",
    "# Uso de la libreria pandas para la lectura de archivos\n",
    "data=pd.read_csv('data-HQ.csv', sep=',', encoding = 'utf-8')\n",
    "# Asignación a una nueva variable de los datos leidos\n",
    "data_t=data.dropna()\n",
    "display(data_t.sample(10))"
   ]
  },
  {
   "cell_type": "code",
   "execution_count": 3,
   "id": "d9e31bf8-97e5-45f8-be7e-6a3c9173541e",
   "metadata": {},
   "outputs": [
    {
     "data": {
      "text/plain": [
       "0         1\n",
       "1         0\n",
       "2         1\n",
       "3         1\n",
       "4         1\n",
       "         ..\n",
       "195634    0\n",
       "195635    0\n",
       "195636    0\n",
       "195637    0\n",
       "195638    1\n",
       "Name: class, Length: 195639, dtype: int64"
      ]
     },
     "execution_count": 3,
     "metadata": {},
     "output_type": "execute_result"
    }
   ],
   "source": [
    "#Separar datos\n",
    "X_data, y_data = data_t['words'],data_t['class']\n",
    "y_data = (y_data == 'suicide').astype(int)\n",
    "y_data"
   ]
  },
  {
   "cell_type": "code",
   "execution_count": 4,
   "id": "7329a3a7-c243-4617-9144-d61451b6f194",
   "metadata": {},
   "outputs": [
    {
     "name": "stdout",
     "output_type": "stream",
     "text": [
      "(195639, 204752)\n"
     ]
    }
   ],
   "source": [
    "#Se realiza la vectorización por conteo de palabras\n",
    "count = CountVectorizer()\n",
    "X_count = count.fit_transform(X_data)\n",
    "print(X_count.shape)"
   ]
  },
  {
   "cell_type": "code",
   "execution_count": 5,
   "id": "1b74c095-8de1-4369-8542-f9f9e91e6fa5",
   "metadata": {},
   "outputs": [],
   "source": [
    "X_train, X_test, Y_train, Y_test = train_test_split(X_count, y_data, test_size=0.2, random_state=0)"
   ]
  },
  {
   "cell_type": "code",
   "execution_count": 6,
   "id": "757214d0-b609-4ba2-8c2f-d83d446e1f34",
   "metadata": {},
   "outputs": [],
   "source": [
    "arrayTrain = X_train.toarray()\n",
    "arrayPredict = X_test.toarray()"
   ]
  },
  {
   "cell_type": "code",
   "execution_count": 7,
   "id": "a4a2304e-7688-4b21-b13e-394c0f6f0fda",
   "metadata": {},
   "outputs": [
    {
     "name": "stdout",
     "output_type": "stream",
     "text": [
      "156511\n"
     ]
    }
   ],
   "source": [
    "print(len(arrayTrain))"
   ]
  },
  {
   "cell_type": "code",
   "execution_count": 23,
   "id": "81bbcc36-42a7-4175-8d76-07a3fbf59be5",
   "metadata": {},
   "outputs": [
    {
     "name": "stdout",
     "output_type": "stream",
     "text": [
      "39128\n"
     ]
    }
   ],
   "source": [
    "print(len(arrayPredict))"
   ]
  },
  {
   "cell_type": "code",
   "execution_count": 8,
   "id": "cafa7d67-30f3-402b-8bb3-5c395c057b04",
   "metadata": {},
   "outputs": [
    {
     "name": "stdout",
     "output_type": "stream",
     "text": [
      "9781.9375\n",
      "9796\n",
      "[[0, 9780], [9781, 19561], [19562, 29342], [29343, 39123], [39124, 48904], [48905, 58685], [58686, 68466], [68467, 78247], [78248, 88028], [88029, 97809], [97810, 107590], [107591, 117371], [117372, 127152], [127153, 136933], [136934, 146714], [146715, 156510]]\n"
     ]
    }
   ],
   "source": [
    "n = len(arrayTrain)\n",
    "batchSize = n/16\n",
    "print(batchSize)\n",
    "print(n-9781*15)\n",
    "lista = []\n",
    "x = 0\n",
    "y = 9781\n",
    "for i in range(16):\n",
    "    if i == 15:\n",
    "        lista.append([146715, 156510])\n",
    "        break\n",
    "    lista.append([x,y - 1])\n",
    "    x = y\n",
    "    y = (9781 * (i+2))\n",
    "print (lista)"
   ]
  },
  {
   "cell_type": "code",
   "execution_count": 9,
   "id": "05f87d2f-c5cd-4ea1-b0ff-58dc1650d2f0",
   "metadata": {},
   "outputs": [
    {
     "name": "stdout",
     "output_type": "stream",
     "text": [
      "156511\n"
     ]
    }
   ],
   "source": [
    "print( len(Y_train.values))"
   ]
  },
  {
   "cell_type": "code",
   "execution_count": 10,
   "id": "58dc588e-e642-4609-a824-8eea94ce02c4",
   "metadata": {},
   "outputs": [],
   "source": [
    "bernNB = BernoulliNB()"
   ]
  },
  {
   "cell_type": "code",
   "execution_count": 11,
   "id": "a30e6a1a-86da-4ec3-91da-892b86c0543d",
   "metadata": {},
   "outputs": [
    {
     "name": "stdout",
     "output_type": "stream",
     "text": [
      "[0, 9780]\n",
      "[9781, 19561]\n",
      "[19562, 29342]\n",
      "[29343, 39123]\n",
      "[39124, 48904]\n",
      "[48905, 58685]\n",
      "[58686, 68466]\n",
      "[68467, 78247]\n"
     ]
    }
   ],
   "source": [
    "for i in range(0,8):\n",
    "    indice = lista[i]\n",
    "    print(indice)\n",
    "    bernNB.partial_fit(arrayTrain[indice[0]:indice[1]], Y_train.values[indice[0]:indice[1]], classes=np.unique(Y_train.values))"
   ]
  },
  {
   "cell_type": "code",
   "execution_count": 12,
   "id": "e439df97-c9df-4b91-a3a9-0f6e49ccbddb",
   "metadata": {},
   "outputs": [
    {
     "name": "stdout",
     "output_type": "stream",
     "text": [
      "[88029, 97809]\n",
      "[97810, 107590]\n",
      "[107591, 117371]\n",
      "[117372, 127152]\n",
      "[127153, 136933]\n",
      "[136934, 146714]\n"
     ]
    }
   ],
   "source": [
    "for i in range(9,15):\n",
    "    indice = lista[i]\n",
    "    print(indice)\n",
    "    bernNB.partial_fit(arrayTrain[indice[0]:indice[1]], Y_train.values[indice[0]:indice[1]], classes=np.unique(Y_train.values))"
   ]
  },
  {
   "cell_type": "code",
   "execution_count": 7,
   "id": "9f185c6f-33ff-4406-a094-97462f527c5f",
   "metadata": {},
   "outputs": [],
   "source": [
    "from joblib import dump, load\n",
    "# dump(bernNB, 'bernNB.joblib') \n",
    "bern2 = load('bernNB.joblib') "
   ]
  },
  {
   "cell_type": "code",
   "execution_count": 97,
   "id": "926bbd89-3ce0-47c2-bb3d-9d91af010f0f",
   "metadata": {},
   "outputs": [
    {
     "name": "stdout",
     "output_type": "stream",
     "text": [
      "39128\n",
      "6521\n",
      "[[0, 6521], [6521, 13042], [13042, 19563], [19563, 26084], [26084, 32605], [32605, 39127]]\n",
      "6521\n",
      "6521\n",
      "6521\n",
      "6521\n",
      "6521\n",
      "6522\n"
     ]
    }
   ],
   "source": [
    "n = len(arrayPredict)\n",
    "print(n)\n",
    "batchSize = n//6\n",
    "print(batchSize)\n",
    "# print(n-9781*15)\n",
    "lista = []\n",
    "x = 0\n",
    "y = batchSize\n",
    "for i in range(6):\n",
    "    if i == 5:\n",
    "        lista.append([32605, n - 1])\n",
    "        break\n",
    "    lista.append([x,y])\n",
    "    x = y\n",
    "    y = (batchSize*(i+2))\n",
    "print (lista)\n",
    "for i in lista:\n",
    "    print(i[1]-i[0])"
   ]
  },
  {
   "cell_type": "code",
   "execution_count": 113,
   "id": "9ef81c2b-cee8-41f7-8a12-6a01a4fd9746",
   "metadata": {},
   "outputs": [
    {
     "name": "stdout",
     "output_type": "stream",
     "text": [
      "[0, 6521]\n",
      "6521\n"
     ]
    }
   ],
   "source": [
    "y_pred = []\n",
    "indice = lista[0]\n",
    "print(indice)\n",
    "a = bern2.predict(arrayPredict[:indice[1]])\n",
    "print(len(a))"
   ]
  },
  {
   "cell_type": "code",
   "execution_count": 114,
   "id": "3e7d23b5-0607-4077-abd9-277158bec1b9",
   "metadata": {},
   "outputs": [
    {
     "name": "stdout",
     "output_type": "stream",
     "text": [
      "[6521, 13042]\n",
      "6521\n"
     ]
    }
   ],
   "source": [
    "indice = lista[1]\n",
    "print(indice)\n",
    "b = bern2.predict(arrayPredict[indice[0]:indice[1]])\n",
    "print(len(b))"
   ]
  },
  {
   "cell_type": "code",
   "execution_count": 115,
   "id": "b9376990-3dfa-4f6a-b2e7-2eeb0c61eb14",
   "metadata": {},
   "outputs": [
    {
     "name": "stdout",
     "output_type": "stream",
     "text": [
      "[13042, 19563]\n",
      "6521\n"
     ]
    }
   ],
   "source": [
    "indice = lista[2]\n",
    "print(indice)\n",
    "c = bern2.predict(arrayPredict[indice[0]:indice[1]])\n",
    "print(len(c))"
   ]
  },
  {
   "cell_type": "code",
   "execution_count": 116,
   "id": "0af3ae7f-d78d-4157-905a-8a2d1840fa1e",
   "metadata": {},
   "outputs": [
    {
     "name": "stdout",
     "output_type": "stream",
     "text": [
      "[19563, 26084]\n",
      "6521\n"
     ]
    }
   ],
   "source": [
    "indice = lista[3]\n",
    "print(indice)\n",
    "d = bern2.predict(arrayPredict[indice[0]:indice[1]])\n",
    "print(len(d))"
   ]
  },
  {
   "cell_type": "code",
   "execution_count": 117,
   "id": "06814975-255b-4781-b892-ac45325ac427",
   "metadata": {},
   "outputs": [
    {
     "name": "stdout",
     "output_type": "stream",
     "text": [
      "[26084, 32605]\n",
      "6521\n"
     ]
    }
   ],
   "source": [
    "indice = lista[4]\n",
    "print(indice)\n",
    "e = bern2.predict(arrayPredict[indice[0]:indice[1]])\n",
    "print(len(e))"
   ]
  },
  {
   "cell_type": "code",
   "execution_count": 118,
   "id": "93958a48-8dd6-4c2b-8095-27f23b9c58ae",
   "metadata": {},
   "outputs": [
    {
     "name": "stdout",
     "output_type": "stream",
     "text": [
      "[32605, 39127]\n",
      "6523\n"
     ]
    }
   ],
   "source": [
    "indice = lista[5]\n",
    "print(indice)\n",
    "f = bern2.predict(arrayPredict[32605:])\n",
    "print(len(f))"
   ]
  },
  {
   "cell_type": "code",
   "execution_count": 119,
   "id": "7d52e6a6-26c9-4467-9e08-75cffe760f1a",
   "metadata": {},
   "outputs": [
    {
     "name": "stdout",
     "output_type": "stream",
     "text": [
      "6521\n",
      "6521\n",
      "6521\n",
      "6521\n",
      "6521\n",
      "6523\n"
     ]
    }
   ],
   "source": [
    "print(len(a))\n",
    "print(len(b))\n",
    "print(len(c))\n",
    "print(len(d))\n",
    "print(len(e))\n",
    "print(len(f))"
   ]
  },
  {
   "cell_type": "code",
   "execution_count": 120,
   "id": "19a5997a-9358-4626-9b35-1987eedb57ac",
   "metadata": {},
   "outputs": [],
   "source": [
    "for elem in a:\n",
    "    y_pred.append(elem)"
   ]
  },
  {
   "cell_type": "code",
   "execution_count": 121,
   "id": "92a08b6e-f369-42a3-838f-c584b3cee2d2",
   "metadata": {},
   "outputs": [],
   "source": [
    "for elem in b:\n",
    "    y_pred.append(elem)"
   ]
  },
  {
   "cell_type": "code",
   "execution_count": 122,
   "id": "db58a20c-e407-4372-bfb9-91eba327a6a1",
   "metadata": {},
   "outputs": [],
   "source": [
    "for elem in c:\n",
    "    y_pred.append(elem)"
   ]
  },
  {
   "cell_type": "code",
   "execution_count": 123,
   "id": "97473a01-6cfd-42ca-a24a-af3e14ad5aad",
   "metadata": {},
   "outputs": [],
   "source": [
    "for elem in d:\n",
    "    y_pred.append(elem)"
   ]
  },
  {
   "cell_type": "code",
   "execution_count": 124,
   "id": "f5c8bc65-9683-4ab1-8154-e9bed10d708f",
   "metadata": {},
   "outputs": [],
   "source": [
    "for elem in e:\n",
    "    y_pred.append(elem)"
   ]
  },
  {
   "cell_type": "code",
   "execution_count": 125,
   "id": "cc417a1f-de38-47da-b77c-bcb5253641ff",
   "metadata": {},
   "outputs": [],
   "source": [
    "for elem in f:\n",
    "    y_pred.append(elem)"
   ]
  },
  {
   "cell_type": "code",
   "execution_count": 126,
   "id": "8bf6ce40-b379-4048-b3c2-55c96eb6b26e",
   "metadata": {},
   "outputs": [
    {
     "name": "stdout",
     "output_type": "stream",
     "text": [
      "39128\n"
     ]
    }
   ],
   "source": [
    "print(len(Y_test))"
   ]
  },
  {
   "cell_type": "code",
   "execution_count": 127,
   "id": "0dff93e3-1696-4e26-99d8-809594b936fa",
   "metadata": {},
   "outputs": [
    {
     "name": "stderr",
     "output_type": "stream",
     "text": [
      "/Users/alejandro/opt/anaconda3/lib/python3.9/site-packages/sklearn/utils/deprecation.py:87: FutureWarning: Function plot_confusion_matrix is deprecated; Function `plot_confusion_matrix` is deprecated in 1.0 and will be removed in 1.2. Use one of the class methods: ConfusionMatrixDisplay.from_predictions or ConfusionMatrixDisplay.from_estimator.\n",
      "  warnings.warn(msg, category=FutureWarning)\n"
     ]
    },
    {
     "data": {
      "image/png": "[encoded data removed]",
      "text/plain": [
       "<Figure size 432x288 with 2 Axes>"
      ]
     },
     "metadata": {
      "needs_background": "light"
     },
     "output_type": "display_data"
    }
   ],
   "source": [
    "confusion_matrix(Y_test, y_pred)\n",
    "# Se puede visualizar la matriz de confusión\n",
    "plot_confusion_matrix(bern2, X_test, Y_test)  \n",
    "plt.show()  "
   ]
  },
  {
   "cell_type": "code",
   "execution_count": 128,
   "id": "b7a0f95f-0edb-44dc-accd-1d93538847f6",
   "metadata": {},
   "outputs": [
    {
     "name": "stdout",
     "output_type": "stream",
     "text": [
      "Exactitud: 0.80\n",
      "Recall: 0.6521867090470305\n",
      "Precisión: 0.8480024491045461\n",
      "Puntuación F1: 0.7373149226418234\n"
     ]
    }
   ],
   "source": [
    "print('Exactitud: %.2f' % accuracy_score(Y_test, y_pred))\n",
    "print(\"Recall: {}\".format(recall_score(Y_test,y_pred)))\n",
    "print(\"Precisión: {}\".format(precision_score(Y_test,y_pred)))\n",
    "print(\"Puntuación F1: {}\".format(f1_score(Y_test,y_pred)))"
   ]
  },
  {
   "cell_type": "code",
   "execution_count": 129,
   "id": "05184e15-3a8e-452e-8532-d15c325b3639",
   "metadata": {},
   "outputs": [
    {
     "name": "stdout",
     "output_type": "stream",
     "text": [
      "              precision    recall  f1-score   support\n",
      "\n",
      "           0       0.77      0.91      0.84     22139\n",
      "           1       0.85      0.65      0.74     16989\n",
      "\n",
      "    accuracy                           0.80     39128\n",
      "   macro avg       0.81      0.78      0.79     39128\n",
      "weighted avg       0.81      0.80      0.79     39128\n",
      "\n"
     ]
    }
   ],
   "source": [
    "print(classification_report(Y_test, y_pred))"
   ]
  },
  {
   "cell_type": "raw",
   "id": "1a38a148-716f-4c80-a7dc-1be31a29b2dd",
   "metadata": {},
   "source": [
    "Según estas métricas, el modelo es muy bueno prediciendo."
   ]
  },
  {
   "cell_type": "code",
   "execution_count": null,
   "id": "543ee344-dc42-4c28-9c15-50e1dd58c1c3",
   "metadata": {},
   "outputs": [],
   "source": []
  }
 ],
 "metadata": {
  "kernelspec": {
   "display_name": "Python 3 (ipykernel)",
   "language": "python",
   "name": "python3"
  },
  "language_info": {
   "codemirror_mode": {
    "name": "ipython",
    "version": 3
   },
   "file_extension": ".py",
   "mimetype": "text/x-python",
   "name": "python",
   "nbconvert_exporter": "python",
   "pygments_lexer": "ipython3",
   "version": "3.9.12"
  }
 },
 "nbformat": 4,
 "nbformat_minor": 5
}
